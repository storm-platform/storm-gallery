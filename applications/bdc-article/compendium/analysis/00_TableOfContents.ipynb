{
 "cells": [
  {
   "cell_type": "markdown",
   "id": "f8bef75d",
   "metadata": {},
   "source": [
    "<img src=\"../assets/logo-bdc.png\" align=\"right\" width=\"64\"/>\n",
    "\n",
    "# <span style=\"color: #336699\">Earth Observation Data Cubes for Brazil: Requirements, Methodology and Products</span>\n",
    "<hr style=\"border:2px solid #0077b9;\">\n",
    "\n",
    "<br/>\n",
    "\n",
    "<div style=\"text-align: center;font-size: 90%;\">\n",
    "    Rolf E. O. Simões <sup><a href=\"mailto:rolf.simoes@inpe.br\"><i class=\"far fa-lg fa-envelope\"></i></a> <a href=\"https://orcid.org/0000-0003-0953-4132\"><i class=\"fab fa-lg fa-orcid\" style=\"color: #a6ce39\"></i></a></sup>, Alber H. Sanchez <sup><a href=\"mailto:alber.ipia@inpe.br\"><i class=\"far fa-lg fa-envelope\"></i></a> <a href=\"https://orcid.org/0000-0001-7966-2880\"><i class=\"fab fa-lg fa-orcid\" style=\"color: #a6ce39\"></i></a></sup>, Felipe M. Carlos <sup><a href=\"mailto:felipe.carlos@inpe.br\"><i class=\"far fa-lg fa-envelope\"></i></a> <a href=\"https://orcid.org/0000-0002-3334-4315\"><i class=\"fab fa-lg fa-orcid\" style=\"color: #a6ce39\"></i></a></sup>, Leonardo S. Vieira <sup><a href=\"mailto:leonardo.vieira@inpe.br\"><i class=\"far fa-lg fa-envelope\"></i></a> <a href=\"https://orcid.org/0000-0002-3397-6232\"><i class=\"fab fa-lg fa-orcid\" style=\"color: #a6ce39\"></i></a></sup>,<br/>\n",
    "    Karine R. Ferreira <sup><a href=\"mailto:karine.ferreira@inpe.br\"><i class=\"far fa-lg fa-envelope\"></i></a> <a href=\"https://orcid.org/0000-0003-2656-5504\"><i class=\"fab fa-lg fa-orcid\" style=\"color: #a6ce39\"></i></a></sup>, Lubia Vinhas <sup><a href=\"mailto:lubia.vinhas@inpe.br\"><i class=\"far fa-lg fa-envelope\"></i></a> <a href=\"https://orcid.org/0000-0003-1104-3607\"><i class=\"fab fa-lg fa-orcid\" style=\"color: #a6ce39\"></i></a></sup>, Gilberto R. Queiroz<sup>* <a href=\"mailto:gilberto.queiroz@inpe.br\"><i class=\"far fa-lg fa-envelope\"></i></a> <a href=\"https://orcid.org/0000-0001-7534-0219\"><i class=\"fab fa-lg fa-orcid\" style=\"color: #a6ce39\"></i></a></sup>\n",
    "    <br/><br/>\n",
    "    Earth Observation and Geoinformatics Division, National Institute for Space Research (INPE)\n",
    "    <br/>\n",
    "    Avenida dos Astronautas, 1758, Jardim da Granja, São José dos Campos, SP 12227-010, Brazil\n",
    "    <br/><br/>\n",
    "    <sup>*</sup> Author to whom correspondence should be addressed.\n",
    "    <br/><br/>\n",
    "    February 24, 2021\n",
    "</div>\n",
    "\n",
    "<br/>\n",
    "\n",
    "<div style=\"text-align: justify;  margin-left: 10%; margin-right: 10%;\">\n",
    "<b>Abstract.</b> This Jupyter Notebook compendium contains useful information for the creation of land use and land cover (LULC) maps using Earth observations data cubes and machine learning (ML) techniques. The code is based on the research pipeline described in the paper <em>Earth Observation Data Cubes for Brazil: Requirements, Methodology and Products</em>. All the datasets required to the reproducibility of the work is also available. \n",
    "</div>    \n",
    "\n",
    "<br/>\n",
    "<div style=\"text-align: justify;  margin-left: 15%; margin-right: 15%;font-size: 75%; border-style: solid; border-color: #0077b9; border-width: 1px; padding: 5px;\">\n",
    "    <b>This Jupyter Notebook is supplement to the <a href=\"https://www.mdpi.com/2072-4292/12/24/4033/htm#sec5-remotesensing-12-04033\" target=\"_blank\">Section 5</a> of the following paper:</b>\n",
    "    <div style=\"margin-left: 10px; margin-right: 10px\">\n",
    "    Ferreira, K.R.; Queiroz, G.R.; Vinhas, L.; Marujo, R.F.B.; Simoes, R.E.O.; Picoli, M.C.A.; Camara, G.; Cartaxo, R.; Gomes, V.C.F.; Santos, L.A.; Sanchez, A.H.; Arcanjo, J.S.; Fronza, J.G.; Noronha, C.A.; Costa, R.W.; Zaglia, M.C.; Zioti, F.; Korting, T.S.; Soares, A.R.; Chaves, M.E.D.; Fonseca, L.M.G. 2020. Earth Observation Data Cubes for Brazil: Requirements, Methodology and Products. Remote Sens. 12, no. 24: 4033. DOI: <a href=\"https://doi.org/10.3390/rs12244033\" target=\"_blank\">10.3390/rs12244033</a>.\n",
    "    </div>\n",
    "</div>"
   ]
  },
  {
   "cell_type": "markdown",
   "id": "cf79114a",
   "metadata": {},
   "source": [
    "# <span style=\"color: #336699\">Table of Contents</span>\n",
    "<hr style=\"border:1px solid #0077b9;\">\n",
    "\n",
    "The series of Jupyter Notebooks related to the paper is organized as follow:\n",
    "\n",
    "\n",
    "* [Extracting time series from sample locations](./01_ExtractTimeSeries.ipynb)\n",
    "\n",
    "* [Land Use and Cover Mapping from CBERS-4/AWFI Data Cubes](./02_CB4_64_16D_STK-1_Classification.ipynb)\n",
    "\n",
    "* [Validation results for CBERS-4/AWFI classification](./03_CB4_64_16D_STK-1_Validation.ipynb)\n",
    "\n",
    "* [Land Use and Cover Mapping from Landsat-8/OLI Data Cubes](./04_LC8_30_16D_STK-1_Classification.ipynb)\n",
    "\n",
    "* [Validation results for Landsat-8/OLI classification](./05_LC8_30_16D_STK-1_Validation.ipynb)\n",
    "\n",
    "* [Land Use and Cover Mapping from Sentinel-2/MSI Data Cubes](./06_S2-SEN2COR_10_16D_STK-1_Classification.ipynb)\n",
    "\n",
    "* [Validation results for Sentinel-2/MSI classification](./07_S2-SEN2COR_10_16D_STK-1_Validation.ipynb)\n",
    "\n",
    "\n",
    "Interest readers should try the notebooks in the proposed order as their contents are very complementary."
   ]
  },
  {
   "cell_type": "markdown",
   "id": "e2f0ce59",
   "metadata": {},
   "source": [
    "# <span style=\"color: #336699\">Study Area</span>\n",
    "<hr style=\"border:1px solid #0077b9;\">\n",
    "\n",
    "The study area is located in the Bahia state, Brazil, between the Cerrado and Caatinga biomes as depicted in Figure 1.\n",
    "\n",
    "<div align=\"center\">\n",
    "  <img src=\"../assets/study-area.png\" width=\"600px\">\n",
    "</div>\n",
    "<center><b>Figure 1</b> - Study area in relation to Brazil and its biomes.</center>"
   ]
  }
 ],
 "metadata": {
  "kernelspec": {
   "display_name": "R",
   "language": "R",
   "name": "ir"
  },
  "language_info": {
   "codemirror_mode": "r",
   "file_extension": ".r",
   "mimetype": "text/x-r-source",
   "name": "R",
   "pygments_lexer": "r",
   "version": "4.1.1"
  }
 },
 "nbformat": 4,
 "nbformat_minor": 5
}
