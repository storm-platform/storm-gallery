{
 "cells": [
  {
   "cell_type": "markdown",
   "id": "b6325ff7",
   "metadata": {},
   "source": [
    "<img src=\"../assets/logo-bdc.png\" align=\"right\" width=\"64\"/>\n",
    "\n",
    "# <span style=\"color: #336699\">Earth Observation Data Cubes for Brazil: Requirements, Methodology and Products</span>\n",
    "<hr style=\"border:2px solid #0077b9;\">\n",
    "\n",
    "<br/>\n",
    "\n",
    "<div style=\"text-align: center;font-size: 90%;\">\n",
    "    Rolf E. O. Simões <sup><a href=\"mailto:rolf.simoes@inpe.br\"><i class=\"far fa-lg fa-envelope\"></i></a> <a href=\"https://orcid.org/0000-0003-0953-4132\"><i class=\"fab fa-lg fa-orcid\" style=\"color: #a6ce39\"></i></a></sup>, Alber H. Sanchez <sup><a href=\"mailto:alber.ipia@inpe.br\"><i class=\"far fa-lg fa-envelope\"></i></a> <a href=\"https://orcid.org/0000-0001-7966-2880\"><i class=\"fab fa-lg fa-orcid\" style=\"color: #a6ce39\"></i></a></sup>, Felipe M. Carlos <sup><a href=\"mailto:felipe.carlos@inpe.br\"><i class=\"far fa-lg fa-envelope\"></i></a> <a href=\"https://orcid.org/0000-0002-3334-4315\"><i class=\"fab fa-lg fa-orcid\" style=\"color: #a6ce39\"></i></a></sup>, Leonardo S. Vieira <sup><a href=\"mailto:leonardo.vieira@inpe.br\"><i class=\"far fa-lg fa-envelope\"></i></a> <a href=\"https://orcid.org/0000-0002-3397-6232\"><i class=\"fab fa-lg fa-orcid\" style=\"color: #a6ce39\"></i></a></sup>,<br/>\n",
    "    Karine R. Ferreira <sup><a href=\"mailto:karine.ferreira@inpe.br\"><i class=\"far fa-lg fa-envelope\"></i></a> <a href=\"https://orcid.org/0000-0003-2656-5504\"><i class=\"fab fa-lg fa-orcid\" style=\"color: #a6ce39\"></i></a></sup>, Lubia Vinhas <sup><a href=\"mailto:lubia.vinhas@inpe.br\"><i class=\"far fa-lg fa-envelope\"></i></a> <a href=\"https://orcid.org/0000-0003-1104-3607\"><i class=\"fab fa-lg fa-orcid\" style=\"color: #a6ce39\"></i></a></sup>, Gilberto R. Queiroz<sup>* <a href=\"mailto:gilberto.queiroz@inpe.br\"><i class=\"far fa-lg fa-envelope\"></i></a> <a href=\"https://orcid.org/0000-0001-7534-0219\"><i class=\"fab fa-lg fa-orcid\" style=\"color: #a6ce39\"></i></a></sup>\n",
    "    <br/><br/>\n",
    "    Earth Observation and Geoinformatics Division, National Institute for Space Research (INPE)\n",
    "    <br/>\n",
    "    Avenida dos Astronautas, 1758, Jardim da Granja, São José dos Campos, SP 12227-010, Brazil\n",
    "    <br/><br/>\n",
    "    <sup>*</sup> Author to whom correspondence should be addressed.\n",
    "    <br/><br/>\n",
    "    February 24, 2021\n",
    "</div>\n",
    "\n",
    "<br/>\n",
    "\n",
    "<div style=\"text-align: justify;  margin-left: 10%; margin-right: 10%;\">\n",
    "<b>Abstract.</b> This Jupyter Notebook compendium contains useful information for the creation of land use and land cover (LULC) maps using Earth observations data cubes and machine learning (ML) techniques. The code is based on the research pipeline described in the paper <em>Earth Observation Data Cubes for Brazil: Requirements, Methodology and Products</em>. All the datasets required to the reproducibility of the work is also available. \n",
    "</div>    \n",
    "\n",
    "<br/>\n",
    "<div style=\"text-align: justify;  margin-left: 15%; margin-right: 15%;font-size: 75%; border-style: solid; border-color: #0077b9; border-width: 1px; padding: 5px;\">\n",
    "    <b>This Jupyter Notebook is supplement to the <a href=\"https://www.mdpi.com/2072-4292/12/24/4033/htm#sec5-remotesensing-12-04033\" target=\"_blank\">Section 5</a> of the following paper:</b>\n",
    "    <div style=\"margin-left: 10px; margin-right: 10px\">\n",
    "    Ferreira, K.R.; Queiroz, G.R.; Vinhas, L.; Marujo, R.F.B.; Simoes, R.E.O.; Picoli, M.C.A.; Camara, G.; Cartaxo, R.; Gomes, V.C.F.; Santos, L.A.; Sanchez, A.H.; Arcanjo, J.S.; Fronza, J.G.; Noronha, C.A.; Costa, R.W.; Zaglia, M.C.; Zioti, F.; Korting, T.S.; Soares, A.R.; Chaves, M.E.D.; Fonseca, L.M.G. 2020. Earth Observation Data Cubes for Brazil: Requirements, Methodology and Products. Remote Sens. 12, no. 24: 4033. DOI: <a href=\"https://doi.org/10.3390/rs12244033\" target=\"_blank\">10.3390/rs12244033</a>.\n",
    "    </div>\n",
    "</div>"
   ]
  },
  {
   "cell_type": "markdown",
   "id": "5ed08108",
   "metadata": {},
   "source": [
    "# <span style=\"color: #336699\">Extracting time series from sample locations</span>\n",
    "<hr style=\"border:1px solid #0077b9;\">\n",
    "\n",
    "This document describes the process of extracting time series from EO data cubes associated with LULC samples. This information is required during the creation and training of the model based on a MultiLayer Perceptron neural network described later in the notebooks related to the classification process.\n",
    "\n",
    "In general, at this stage, as shown in the Figure 1, for each sample, a temporal spectral signature is associated considering different bands and vegetation indices. This allows each sample's labels to be linked to a specific temporal variation pattern, which is used by the algorithms for classification."
   ]
  },
  {
   "cell_type": "markdown",
   "id": "9ae58e45",
   "metadata": {},
   "source": [
    "<div align=\"center\">\n",
    "  <img src=\"../assets/land-trajectory.png\" width=\"600px\">\n",
    "</div>\n",
    "<br/>\n",
    "<center><b>Figure 1</b> - Temporal patterns based on spectral signature.<br/><b>Source:</b> Victor Maus</center>"
   ]
  },
  {
   "cell_type": "markdown",
   "id": "6470da3c",
   "metadata": {},
   "source": [
    "# <span style=\"color: #336699\">Study Area</span>\n",
    "<hr style=\"border:1px solid #0077b9;\">\n",
    "\n",
    "The study area is located in the Bahia state, Brazil, between the Cerrado and Caatinga biomes as depicted in Figure 1.\n",
    "\n",
    "<div align=\"center\">\n",
    "  <img src=\"../assets/study-area.png\" width=\"600px\">\n",
    "</div>\n",
    "<center><b>Figure 1</b> - Study area in relation to Brazil and its biomes.</center>"
   ]
  },
  {
   "cell_type": "markdown",
   "id": "416073a1",
   "metadata": {},
   "source": [
    "# <span style=\"color: #336699\">The SITS R package</span>\n",
    "<hr style=\"border:1px solid #0077b9;\">\n",
    "\n",
    "\n",
    "For the time series extraction process we use the [SITS R package](https://github.com/e-sensing/sits).It can be loaded with the `library` command:"
   ]
  },
  {
   "cell_type": "code",
   "execution_count": null,
   "id": "3eb793c8",
   "metadata": {},
   "outputs": [],
   "source": [
    "library(sits)\n",
    "library(dplyr)"
   ]
  },
  {
   "cell_type": "markdown",
   "id": "195e1868",
   "metadata": {},
   "source": [
    "The access to the Brazil Data Cube (BDC) data products requires an access key. To request your access key, please, contact the BDC team  at brazildatacube@inpe.br. The cell code below defines the access key so that it can be used by the SITS functions in order to retrieve data from the BDC services:"
   ]
  },
  {
   "cell_type": "code",
   "execution_count": null,
   "id": "8e2c522d",
   "metadata": {
    "tags": [
     "parameters"
    ]
   },
   "outputs": [],
   "source": [
    "#\n",
    "# Data Cube temporal extent (Default is the region's agricultural calendar year)\n",
    "#\n",
    "start_date  <- \"2018-08-29\"\n",
    "end_date    <- \"2019-08-29\"\n",
    "\n",
    "#\n",
    "# Brazil Data Cube Service token\n",
    "#\n",
    "BDC_ACCESS_KEY <- \"<YOUR-TOKEN-HERE>\""
   ]
  },
  {
   "cell_type": "code",
   "execution_count": null,
   "id": "03baeef8-779a-4a22-a9c8-ebe6fa264f78",
   "metadata": {},
   "outputs": [],
   "source": [
    "#\n",
    "# Setting the `BDC_ACCESS_KEY` environment variable. (If not defined, sits will be use from the environment variables)\n",
    "#\n",
    "if (BDC_ACCESS_KEY != \"<YOUR-TOKEN-HERE>\") {\n",
    "    Sys.setenv(BDC_ACCESS_KEY = BDC_ACCESS_KEY)  \n",
    "}"
   ]
  },
  {
   "cell_type": "markdown",
   "id": "3b300d48",
   "metadata": {},
   "source": [
    "## <span style=\"color: #336699\">Sample Data Points</span>\n",
    "<hr style=\"border:0.5px solid #0077b9;\">"
   ]
  },
  {
   "cell_type": "markdown",
   "id": "eb9ea457",
   "metadata": {},
   "source": [
    "The sample set that will be used to train the MLP model described in the manuscript contains 922 data points organized into three classes:\n",
    "\n",
    "* Crop (242)\n",
    "* Natural Vegetation (422)\n",
    "* Pasture (258)\n",
    "\n",
    "The file `training-samples.csv` in the folder `training-samples` contains the labeled data points."
   ]
  },
  {
   "cell_type": "code",
   "execution_count": null,
   "id": "f24c3743",
   "metadata": {},
   "outputs": [],
   "source": [
    "#\n",
    "# Defining the base directories\n",
    "#\n",
    "data_input  <- fs::path(\"../data/raw_data\")\n",
    "data_output <- fs::path(\"../data/derived_data\")\n",
    "\n",
    "#\n",
    "# Load the sample data\n",
    "#\n",
    "sample_file <- data_input / \"samples\" / \"train\" / \"data.csv\""
   ]
  },
  {
   "cell_type": "markdown",
   "id": "db114ab1",
   "metadata": {},
   "source": [
    "As one can see, this file contains the location (`latitude`/`longitude`), a timestamp (`start_date`/`end_date`) and a label:"
   ]
  },
  {
   "cell_type": "code",
   "execution_count": null,
   "id": "31a285b5",
   "metadata": {},
   "outputs": [],
   "source": [
    "head( read.csv(sample_file) )"
   ]
  },
  {
   "cell_type": "markdown",
   "id": "066cd7c6",
   "metadata": {},
   "source": [
    "The SITS package contains some facilities to read the location of these samples and to extract the time series from data cubes. This process will result in a dataframe where each sample point is associated to time series from spectral bands and vegetation indices."
   ]
  },
  {
   "cell_type": "markdown",
   "id": "feaccefc",
   "metadata": {},
   "source": [
    "## <span style=\"color: #336699\">Creating the Output Directory</span>\n",
    "<hr style=\"border:0.5px solid #0077b9;\">\n",
    "\n",
    "Let's create an output folder for the datasets generated by this notebook. We are going to choose a folder named `samples/train` under the compendium `data` directory:"
   ]
  },
  {
   "cell_type": "code",
   "execution_count": null,
   "id": "d3916732",
   "metadata": {},
   "outputs": [],
   "source": [
    "output_dir <- data_output / \"samples\" / \"train\"\n",
    "\n",
    "fs::dir_create(output_dir)"
   ]
  },
  {
   "cell_type": "markdown",
   "id": "28192468",
   "metadata": {},
   "source": [
    "## <span style=\"color: #336699\">Time Series Extraction</span>\n",
    "<hr style=\"border:0.5px solid #0077b9;\">"
   ]
  },
  {
   "cell_type": "markdown",
   "id": "25c2091b",
   "metadata": {},
   "source": [
    "### <span style=\"color: #336699\">CBERS-4/AWFI (16 days 'stack')</span>\n",
    "\n",
    "The `sits_cube` function can be used to define the working data cube and the interest spectral bands and vegetation indices:"
   ]
  },
  {
   "cell_type": "code",
   "execution_count": null,
   "id": "c43e0a89",
   "metadata": {},
   "outputs": [],
   "source": [
    "cb4_cube <- sits_cube(\n",
    "    source      = \"BDC\",\n",
    "    collection  = \"CB4_64_16D_STK-1\",\n",
    "    start_date  = start_date,\n",
    "    end_date    = end_date,\n",
    "    tiles       = \"022024\",\n",
    "    bands       = c(\"BAND15\", \"BAND14\", \"BAND13\", \"BAND16\", \"NDVI\", \"EVI\", \"CMASK\")\n",
    ")\n",
    "\n",
    "#\n",
    "# Fixing datacube spatial resolution (Temporary)\n",
    "#\n",
    "cb4_cube$file_info <- lapply(cb4_cube$file_info, function(x) {\n",
    "    x$xres <- as.numeric(substring(toString(x$xres), 1, 5))\n",
    "    x$yres <- as.numeric(substring(toString(x$yres), 1, 5))\n",
    "    x\n",
    "})"
   ]
  },
  {
   "cell_type": "markdown",
   "id": "bf2a7361",
   "metadata": {},
   "source": [
    "In the above cell we provided the following arguments\n",
    "\n",
    "* `source`: Inform that the data cube will be based on the Brazil Data Cube definitions;\n",
    "\n",
    "* `collection`: Defines the use of CBERS-4/AWFI data cube;\n",
    "\n",
    "* `start_date` and `end_date`: The temporal interval of interest;\n",
    "\n",
    "* `tiles`: The Brazil Data Cube tiles used to compose the data cube;\n",
    "\n",
    "* `bands`: The list of spectral bands and spectral indices that will be accessed.\n",
    "\n",
    "The `sits_get_data` retries the time series from the defined data cube `cb4_cube` using the locations in the sample file:"
   ]
  },
  {
   "cell_type": "code",
   "execution_count": null,
   "id": "28d3cb38",
   "metadata": {},
   "outputs": [],
   "source": [
    "cb4_samples_with_ts <- sits_get_data(\n",
    "    cube       = cb4_cube, \n",
    "    file       = sample_file, \n",
    "    multicores = 4  # number of process used to extract the time series\n",
    ")"
   ]
  },
  {
   "cell_type": "markdown",
   "id": "dcc29b44",
   "metadata": {},
   "source": [
    "The structure of the returned dataframe can be seen below:"
   ]
  },
  {
   "cell_type": "code",
   "execution_count": null,
   "id": "d29bd67e",
   "metadata": {},
   "outputs": [],
   "source": [
    "head(cb4_samples_with_ts, 2)"
   ]
  },
  {
   "cell_type": "markdown",
   "id": "65d0bfd7",
   "metadata": {},
   "source": [
    "If you want to plot the NDVI time series for all the LULC classes, use the following `plot` function:"
   ]
  },
  {
   "cell_type": "code",
   "execution_count": null,
   "id": "2612c2bc",
   "metadata": {},
   "outputs": [],
   "source": [
    "plot(\n",
    "    sits_select(\n",
    "        cb4_samples_with_ts, bands = c(\"NDVI\")\n",
    "    )\n",
    ")"
   ]
  },
  {
   "cell_type": "markdown",
   "id": "7b667b16",
   "metadata": {},
   "source": [
    "If you are interested only in a single class:"
   ]
  },
  {
   "cell_type": "code",
   "execution_count": null,
   "id": "1200ed0f",
   "metadata": {},
   "outputs": [],
   "source": [
    "plot(\n",
    "    sits_select(\n",
    "        dplyr::filter(cb4_samples_with_ts, label == \"Pasture\"), bands = c(\"NDVI\")\n",
    "    )\n",
    ")"
   ]
  },
  {
   "cell_type": "markdown",
   "id": "997b78e6",
   "metadata": {},
   "source": [
    "Finally, let's save the dataframe with the samples and time series in a file named `CB4_64_16D_STK-1.rds`. We are going to use it later on the classification notebook."
   ]
  },
  {
   "cell_type": "code",
   "execution_count": null,
   "id": "a04222e1",
   "metadata": {},
   "outputs": [],
   "source": [
    "saveRDS(cb4_samples_with_ts, output_dir / \"CB4_64_16D_STK-1.rds\")"
   ]
  },
  {
   "cell_type": "markdown",
   "id": "9fb11f70",
   "metadata": {},
   "source": [
    "### <span style=\"color: #336699\">Landsat-8/OLI (16 days 'stack')</span>\n",
    "\n",
    "The following code cells repeat the process described on the previous section to the Landsat-8 data cube."
   ]
  },
  {
   "cell_type": "code",
   "execution_count": null,
   "id": "5f3d325a",
   "metadata": {},
   "outputs": [],
   "source": [
    "l8_cube <- sits_cube(\n",
    "    source      = \"BDC\",\n",
    "    collection  = \"LC8_30_16D_STK-1\",\n",
    "    start_date  = start_date,\n",
    "    end_date    = end_date,\n",
    "    tiles       = c(\"044048\", \"045048\", \"044049\", \"045049\"),\n",
    "    bands       = c(\"band4\", \"band3\", \"band2\", \"band5\", \"NDVI\", \"EVI\", \"Fmask4\")\n",
    ")\n",
    "\n",
    "#\n",
    "# Fixing datacube spatial resolution (Temporary)\n",
    "#\n",
    "l8_cube$file_info <- lapply(l8_cube$file_info, function(x) {\n",
    "    x$xres <- as.numeric(substring(toString(x$xres), 1, 5))\n",
    "    x$yres <- as.numeric(substring(toString(x$yres), 1, 5))\n",
    "    x\n",
    "})"
   ]
  },
  {
   "cell_type": "code",
   "execution_count": null,
   "id": "3308c635",
   "metadata": {},
   "outputs": [],
   "source": [
    "l8_samples_with_ts <- sits_get_data(\n",
    "    cube       = l8_cube, \n",
    "    file       = sample_file, \n",
    "    multicores = 4  # number of process used to extract the time series\n",
    ")\n",
    "\n",
    "saveRDS(l8_samples_with_ts, output_dir / \"LC8_30_16D_STK-1.rds\")"
   ]
  },
  {
   "cell_type": "markdown",
   "id": "307b2542",
   "metadata": {},
   "source": [
    "### <span style=\"color: #336699\">Sentinel-2/MSI (16 days 'stack')</span>\n",
    "\n",
    "The following code cells repeat the process described on the CBERS-4/AWFI data cube section to the Sentinel-2 data cube."
   ]
  },
  {
   "cell_type": "code",
   "execution_count": null,
   "id": "7b47b125",
   "metadata": {},
   "outputs": [],
   "source": [
    "s2_cube <- sits_cube(\n",
    "    source      = \"BDC\",\n",
    "    collection  = \"S2-SEN2COR_10_16D_STK-1\",\n",
    "    start_date  = start_date,\n",
    "    end_date    = end_date,\n",
    "    tiles       = c(\"088097\", \"088098\", \"088099\", \n",
    "                    \"089097\", \"089098\", \"089099\", \n",
    "                    \"090097\", \"090098\", \"090099\"),\n",
    "    bands       = c(\"B04\", \"B03\", \"B02\", \"B08\", \"NDVI\", \"EVI\", \"SCL\")\n",
    ")\n",
    "\n",
    "#\n",
    "# Fixing datacube spatial resolution (Temporary)\n",
    "#\n",
    "s2_cube$file_info <- lapply(s2_cube$file_info, function(x) {\n",
    "    x$xres <- as.numeric(substring(toString(x$xres), 1, 5))\n",
    "    x$yres <- as.numeric(substring(toString(x$yres), 1, 5))\n",
    "    x\n",
    "})"
   ]
  },
  {
   "cell_type": "code",
   "execution_count": null,
   "id": "d8cb9d1e",
   "metadata": {},
   "outputs": [],
   "source": [
    "s2_samples_with_ts <- sits_get_data(\n",
    "    cube       = s2_cube, \n",
    "    file       = sample_file, \n",
    "    multicores = 4  # number of process used to extract the time series\n",
    ")\n",
    "\n",
    "saveRDS(s2_samples_with_ts, output_dir / \"S2-SEN2COR_10_16D_STK-1.rds\")"
   ]
  },
  {
   "cell_type": "markdown",
   "id": "9c955160",
   "metadata": {},
   "source": [
    "# <span style=\"color: #336699\">Final Remarks</span>\n",
    "<hr style=\"border:1px solid #0077b9;\">\n",
    "\n",
    "* A copy of the training samples with the time series for each satellite/sensor data cube can be found in the folder `data/derived_data/samples/train`.\n",
    "\n",
    "* If you want to download and run this notebook in a workflow as a script, you can perform its parameterization through the [papermill library](https://github.com/nteract/papermill).\n",
    "\n",
    "* The data cubes used to extract the time series are also available on [BDC-STAC](https://brazildatacube.dpi.inpe.br/stac/)."
   ]
  }
 ],
 "metadata": {
  "kernelspec": {
   "display_name": "R",
   "language": "R",
   "name": "ir"
  },
  "language_info": {
   "codemirror_mode": "r",
   "file_extension": ".r",
   "mimetype": "text/x-r-source",
   "name": "R",
   "pygments_lexer": "r",
   "version": "4.1.1"
  }
 },
 "nbformat": 4,
 "nbformat_minor": 5
}
