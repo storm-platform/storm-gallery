{
 "cells": [
  {
   "cell_type": "markdown",
   "id": "5ad11f45",
   "metadata": {},
   "source": [
    "<img src=\"../assets/logo-bdc.png\" align=\"right\" width=\"64\"/>\n",
    "\n",
    "# <span style=\"color: #336699\">Earth Observation Data Cubes for Brazil: Requirements, Methodology and Products</span>\n",
    "<hr style=\"border:2px solid #0077b9;\">\n",
    "\n",
    "<br/>\n",
    "\n",
    "<div style=\"text-align: center;font-size: 90%;\">\n",
    "    Rolf E. O. Simões <sup><a href=\"mailto:rolf.simoes@inpe.br\"><i class=\"far fa-lg fa-envelope\"></i></a> <a href=\"https://orcid.org/0000-0003-0953-4132\"><i class=\"fab fa-lg fa-orcid\" style=\"color: #a6ce39\"></i></a></sup>, Alber H. Sanchez <sup><a href=\"mailto:alber.ipia@inpe.br\"><i class=\"far fa-lg fa-envelope\"></i></a> <a href=\"https://orcid.org/0000-0001-7966-2880\"><i class=\"fab fa-lg fa-orcid\" style=\"color: #a6ce39\"></i></a></sup>, Felipe M. Carlos <sup><a href=\"mailto:felipe.carlos@inpe.br\"><i class=\"far fa-lg fa-envelope\"></i></a> <a href=\"https://orcid.org/0000-0002-3334-4315\"><i class=\"fab fa-lg fa-orcid\" style=\"color: #a6ce39\"></i></a></sup>, Leonardo S. Vieira <sup><a href=\"mailto:leonardo.vieira@inpe.br\"><i class=\"far fa-lg fa-envelope\"></i></a> <a href=\"https://orcid.org/0000-0002-3397-6232\"><i class=\"fab fa-lg fa-orcid\" style=\"color: #a6ce39\"></i></a></sup>,<br/>\n",
    "    Karine R. Ferreira <sup><a href=\"mailto:karine.ferreira@inpe.br\"><i class=\"far fa-lg fa-envelope\"></i></a> <a href=\"https://orcid.org/0000-0003-2656-5504\"><i class=\"fab fa-lg fa-orcid\" style=\"color: #a6ce39\"></i></a></sup>, Lubia Vinhas <sup><a href=\"mailto:lubia.vinhas@inpe.br\"><i class=\"far fa-lg fa-envelope\"></i></a> <a href=\"https://orcid.org/0000-0003-1104-3607\"><i class=\"fab fa-lg fa-orcid\" style=\"color: #a6ce39\"></i></a></sup>, Gilberto R. Queiroz<sup>* <a href=\"mailto:gilberto.queiroz@inpe.br\"><i class=\"far fa-lg fa-envelope\"></i></a> <a href=\"https://orcid.org/0000-0001-7534-0219\"><i class=\"fab fa-lg fa-orcid\" style=\"color: #a6ce39\"></i></a></sup>\n",
    "    <br/><br/>\n",
    "    Earth Observation and Geoinformatics Division, National Institute for Space Research (INPE)\n",
    "    <br/>\n",
    "    Avenida dos Astronautas, 1758, Jardim da Granja, São José dos Campos, SP 12227-010, Brazil\n",
    "    <br/><br/>\n",
    "    <sup>*</sup> Author to whom correspondence should be addressed.\n",
    "    <br/><br/>\n",
    "    February 24, 2021\n",
    "</div>\n",
    "\n",
    "<br/>\n",
    "\n",
    "<div style=\"text-align: justify;  margin-left: 10%; margin-right: 10%;\">\n",
    "<b>Abstract.</b> This Jupyter Notebook compendium contains useful information for the creation of land use and land cover (LULC) maps using Earth observations data cubes and machine learning (ML) techniques. The code is based on the research pipeline described in the paper <em>Earth Observation Data Cubes for Brazil: Requirements, Methodology and Products</em>. All the datasets required to the reproducibility of the work is also available. \n",
    "</div>    \n",
    "\n",
    "<br/>\n",
    "<div style=\"text-align: justify;  margin-left: 15%; margin-right: 15%;font-size: 75%; border-style: solid; border-color: #0077b9; border-width: 1px; padding: 5px;\">\n",
    "    <b>This Jupyter Notebook is supplement to the <a href=\"https://www.mdpi.com/2072-4292/12/24/4033/htm#sec5-remotesensing-12-04033\" target=\"_blank\">Section 5</a> of the following paper:</b>\n",
    "    <div style=\"margin-left: 10px; margin-right: 10px\">\n",
    "    Ferreira, K.R.; Queiroz, G.R.; Vinhas, L.; Marujo, R.F.B.; Simoes, R.E.O.; Picoli, M.C.A.; Camara, G.; Cartaxo, R.; Gomes, V.C.F.; Santos, L.A.; Sanchez, A.H.; Arcanjo, J.S.; Fronza, J.G.; Noronha, C.A.; Costa, R.W.; Zaglia, M.C.; Zioti, F.; Korting, T.S.; Soares, A.R.; Chaves, M.E.D.; Fonseca, L.M.G. 2020. Earth Observation Data Cubes for Brazil: Requirements, Methodology and Products. Remote Sens. 12, no. 24: 4033. DOI: <a href=\"https://doi.org/10.3390/rs12244033\" target=\"_blank\">10.3390/rs12244033</a>.\n",
    "    </div>\n",
    "</div>"
   ]
  },
  {
   "cell_type": "markdown",
   "id": "f5f1b6fb",
   "metadata": {},
   "source": [
    "# <span style=\"color: #336699\">Validation results for Sentinel-2/MSI classification</span>\n",
    "<hr style=\"border:1px solid #0077b9;\">\n",
    "\n",
    "This document presents the process for the validation of the results generated in the classification made using the Sentinel-2/MSI data cube. In this example, the validation process was done using the [SITS R package](https://github.com/e-sensing/sits)."
   ]
  },
  {
   "cell_type": "code",
   "execution_count": null,
   "id": "83e2d36c",
   "metadata": {},
   "outputs": [],
   "source": [
    "library(sf)\n",
    "library(sits)\n",
    "library(caret)\n",
    "library(dplyr)\n",
    "library(raster)\n",
    "library(magrittr)"
   ]
  },
  {
   "cell_type": "markdown",
   "id": "a28fd39c",
   "metadata": {},
   "source": [
    "## <span style=\"color: #336699\">Load data</span>\n",
    "\n",
    "To perform the validation, it is initially necessary to load the classification results and the samples used as a reference.\n"
   ]
  },
  {
   "cell_type": "code",
   "execution_count": null,
   "id": "eebf80d4-9122-4532-a4f5-fb9aeffe6989",
   "metadata": {},
   "outputs": [],
   "source": [
    "#\n",
    "# Defining the base directories\n",
    "#\n",
    "data_input  <- fs::path(\"../data/raw_data\")\n",
    "data_output <- fs::path(\"../data/derived_data\")\n",
    "\n",
    "#\n",
    "# Load the validation samples\n",
    "#\n",
    "validation_samples <- sf::read_sf(data_input / \"samples\" / \"validation\" / \"data.shp\")\n",
    "\n",
    "#\n",
    "# Load the LULC classification map (Generated in previous step)\n",
    "#\n",
    "lulc_classification_map <- terra::rast(\n",
    "    fs::dir_ls(\n",
    "        data_output / \"classification\" / \"S2-SEN2COR_10_16D_STK-1\", regexp = \"SENTINEL-2_MSI_merged_*\"\n",
    "    )\n",
    ")"
   ]
  },
  {
   "cell_type": "markdown",
   "id": "db6e60a1-0c97-4cc5-a35c-17bbcb47adeb",
   "metadata": {},
   "source": [
    "## <span style=\"color: #336699\">Preparing the validation samples</span>\n",
    "\n",
    "The LULC samples used as a reference in the comparisons have class names that prevent direct comparison with the data generated in the time series classification. In this step, we will replace these values to be compared. To do this, the values in the variable `validation_samples`, which we loaded above, will be changed according to the following rule:\n",
    "\n",
    "- `Natural` -> `1`;\n",
    "- `Anthropic` -> `2`."
   ]
  },
  {
   "cell_type": "code",
   "execution_count": null,
   "id": "5ff435eb-4425-4886-8553-e444a910183e",
   "metadata": {},
   "outputs": [],
   "source": [
    "#\n",
    "# Transforming the reference date.\n",
    "#\n",
    "reference_data <- dplyr::mutate(\n",
    "    .data     = validation_samples, \n",
    "    reference = factor(ifelse(reference == \"Anthropic\", 2, 1))\n",
    ")"
   ]
  },
  {
   "cell_type": "code",
   "execution_count": null,
   "id": "5efdbd36-9d91-4b16-9fe0-48c578fbd27b",
   "metadata": {},
   "outputs": [],
   "source": [
    "#\n",
    "# Generating the validation sample data.\n",
    "#\n",
    "predicted_values <- \n",
    "    reference_data %>%\n",
    "        sf::st_transform(sf::st_crs(lulc_classification_map)) %>% \n",
    "        dplyr::select(geometry) %>%\n",
    "        sfheaders::sf_to_df() %>%\n",
    "        dplyr::rename(long=x, lat=y) %>%\n",
    "        dplyr::select(c(\"long\", \"lat\"))\n",
    "\n",
    "head( predicted_values )"
   ]
  },
  {
   "cell_type": "markdown",
   "id": "b5b5e247",
   "metadata": {},
   "source": [
    "## <span style=\"color: #336699\">Extract predicted values</span>\n",
    "\n",
    "With the rasters and reference samples loaded, it will now be necessary to extract the values corresponding to each of the validation samples' locations from the classified raster. This extraction allows the comparison of the predicted and reference values.\n",
    "\n",
    "> For extraction at each location, the `extract` function of the [raster package](https://cran.r-project.org/web/packages/raster/raster.pdf) is used.\n"
   ]
  },
  {
   "cell_type": "code",
   "execution_count": null,
   "id": "77e04375",
   "metadata": {},
   "outputs": [],
   "source": [
    "predicted_values <- terra::extract(\n",
    "                      x = lulc_classification_map, \n",
    "                      y = predicted_values\n",
    "                    )\n",
    "\n",
    "head( predicted_values )"
   ]
  },
  {
   "cell_type": "markdown",
   "id": "757914a7",
   "metadata": {},
   "source": [
    "## <span style=\"color: #336699\">Transform extracted values</span>\n",
    "\n",
    "As described in the article, the classified elements were converted so that the evaluation process could be carried out. Here, the `Agriculture` and `Pasture` elements are unified to represent the `Anthropic` class of PRODES. The `Natural Vegetation` class is not changed for comparison.\n",
    "\n",
    "> When the classification process is carried out, there is no way to specify the values assigned to each of the classes being identified. Thus, it may be necessary to check the classification values and their corresponding elements so that the values are used for comparison. \n"
   ]
  },
  {
   "cell_type": "code",
   "execution_count": null,
   "id": "0b9ca535",
   "metadata": {},
   "outputs": [],
   "source": [
    "# Natural Vegetation (2)\n",
    "predicted_values[predicted_values == 2] <- 5\n",
    "\n",
    "# Pasture (3) and Agriculture (1) to PRODES Anthropic class\n",
    "predicted_values[predicted_values == 1] <- 2\n",
    "predicted_values[predicted_values == 3] <- 2\n",
    "\n",
    "# Natural Vegetation (1)\n",
    "predicted_values[predicted_values == 5] <- 1"
   ]
  },
  {
   "cell_type": "markdown",
   "id": "bd67899d",
   "metadata": {},
   "source": [
    "## <span style=\"color: #336699\">Evaluating</span>"
   ]
  },
  {
   "cell_type": "code",
   "execution_count": null,
   "id": "875b1a61",
   "metadata": {},
   "outputs": [],
   "source": [
    "caret::confusionMatrix(\n",
    "  data      = as.factor(predicted_values),\n",
    "  reference = as.factor(reference_data$reference)\n",
    ")"
   ]
  }
 ],
 "metadata": {
  "kernelspec": {
   "display_name": "R",
   "language": "R",
   "name": "ir"
  },
  "language_info": {
   "codemirror_mode": "r",
   "file_extension": ".r",
   "mimetype": "text/x-r-source",
   "name": "R",
   "pygments_lexer": "r",
   "version": "4.1.1"
  }
 },
 "nbformat": 4,
 "nbformat_minor": 5
}
