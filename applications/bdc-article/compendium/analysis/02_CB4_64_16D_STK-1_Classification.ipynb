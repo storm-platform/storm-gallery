{
 "cells": [
  {
   "cell_type": "markdown",
   "id": "a7efea81",
   "metadata": {},
   "source": [
    "<img src=\"../assets/logo-bdc.png\" align=\"right\" width=\"64\"/>\n",
    "\n",
    "# <span style=\"color: #336699\">Earth Observation Data Cubes for Brazil: Requirements, Methodology and Products</span>\n",
    "<hr style=\"border:2px solid #0077b9;\">\n",
    "\n",
    "<br/>\n",
    "\n",
    "<div style=\"text-align: center;font-size: 90%;\">\n",
    "    Rolf E. O. Simões <sup><a href=\"mailto:rolf.simoes@inpe.br\"><i class=\"far fa-lg fa-envelope\"></i></a> <a href=\"https://orcid.org/0000-0003-0953-4132\"><i class=\"fab fa-lg fa-orcid\" style=\"color: #a6ce39\"></i></a></sup>, Alber H. Sanchez <sup><a href=\"mailto:alber.ipia@inpe.br\"><i class=\"far fa-lg fa-envelope\"></i></a> <a href=\"https://orcid.org/0000-0001-7966-2880\"><i class=\"fab fa-lg fa-orcid\" style=\"color: #a6ce39\"></i></a></sup>, Felipe M. Carlos <sup><a href=\"mailto:felipe.carlos@inpe.br\"><i class=\"far fa-lg fa-envelope\"></i></a> <a href=\"https://orcid.org/0000-0002-3334-4315\"><i class=\"fab fa-lg fa-orcid\" style=\"color: #a6ce39\"></i></a></sup>, Leonardo S. Vieira <sup><a href=\"mailto:leonardo.vieira@inpe.br\"><i class=\"far fa-lg fa-envelope\"></i></a> <a href=\"https://orcid.org/0000-0002-3397-6232\"><i class=\"fab fa-lg fa-orcid\" style=\"color: #a6ce39\"></i></a></sup>,<br/>\n",
    "    Karine R. Ferreira <sup><a href=\"mailto:karine.ferreira@inpe.br\"><i class=\"far fa-lg fa-envelope\"></i></a> <a href=\"https://orcid.org/0000-0003-2656-5504\"><i class=\"fab fa-lg fa-orcid\" style=\"color: #a6ce39\"></i></a></sup>, Lubia Vinhas <sup><a href=\"mailto:lubia.vinhas@inpe.br\"><i class=\"far fa-lg fa-envelope\"></i></a> <a href=\"https://orcid.org/0000-0003-1104-3607\"><i class=\"fab fa-lg fa-orcid\" style=\"color: #a6ce39\"></i></a></sup>, Gilberto R. Queiroz<sup>* <a href=\"mailto:gilberto.queiroz@inpe.br\"><i class=\"far fa-lg fa-envelope\"></i></a> <a href=\"https://orcid.org/0000-0001-7534-0219\"><i class=\"fab fa-lg fa-orcid\" style=\"color: #a6ce39\"></i></a></sup>\n",
    "    <br/><br/>\n",
    "    Earth Observation and Geoinformatics Division, National Institute for Space Research (INPE)\n",
    "    <br/>\n",
    "    Avenida dos Astronautas, 1758, Jardim da Granja, São José dos Campos, SP 12227-010, Brazil\n",
    "    <br/><br/>\n",
    "    <sup>*</sup> Author to whom correspondence should be addressed.\n",
    "    <br/><br/>\n",
    "    February 24, 2021\n",
    "</div>\n",
    "\n",
    "<br/>\n",
    "\n",
    "<div style=\"text-align: justify;  margin-left: 10%; margin-right: 10%;\">\n",
    "<b>Abstract.</b> This Jupyter Notebook compendium contains useful information for the creation of land use and land cover (LULC) maps using Earth observations data cubes and machine learning (ML) techniques. The code is based on the research pipeline described in the paper <em>Earth Observation Data Cubes for Brazil: Requirements, Methodology and Products</em>. All the datasets required to the reproducibility of the work is also available. \n",
    "</div>    \n",
    "\n",
    "<br/>\n",
    "<div style=\"text-align: justify;  margin-left: 15%; margin-right: 15%;font-size: 75%; border-style: solid; border-color: #0077b9; border-width: 1px; padding: 5px;\">\n",
    "    <b>This Jupyter Notebook is supplement to the <a href=\"https://www.mdpi.com/2072-4292/12/24/4033/htm#sec5-remotesensing-12-04033\" target=\"_blank\">Section 5</a> of the following paper:</b>\n",
    "    <div style=\"margin-left: 10px; margin-right: 10px\">\n",
    "    Ferreira, K.R.; Queiroz, G.R.; Vinhas, L.; Marujo, R.F.B.; Simoes, R.E.O.; Picoli, M.C.A.; Camara, G.; Cartaxo, R.; Gomes, V.C.F.; Santos, L.A.; Sanchez, A.H.; Arcanjo, J.S.; Fronza, J.G.; Noronha, C.A.; Costa, R.W.; Zaglia, M.C.; Zioti, F.; Korting, T.S.; Soares, A.R.; Chaves, M.E.D.; Fonseca, L.M.G. 2020. Earth Observation Data Cubes for Brazil: Requirements, Methodology and Products. Remote Sens. 12, no. 24: 4033. DOI: <a href=\"https://doi.org/10.3390/rs12244033\" target=\"_blank\">10.3390/rs12244033</a>.\n",
    "    </div>\n",
    "</div>"
   ]
  },
  {
   "cell_type": "markdown",
   "id": "f2e2bc8d",
   "metadata": {},
   "source": [
    "# <span style=\"color: #336699\">Land Use and Cover Mapping from CBERS-4/AWFI Data Cubes</span>\n",
    "<hr style=\"border:1px solid #0077b9;\">\n",
    "\n",
    "This document will present the steps used to generate the CBERS-4/AWFI classification map presented in the paper. As presented in the article, the classification process was done using the [SITS R package](https://github.com/e-sensing/sits).\n"
   ]
  },
  {
   "cell_type": "markdown",
   "id": "78709a75",
   "metadata": {},
   "source": [
    "## <span style=\"color: #336699\">Study Area and samples</span>\n",
    "<hr style=\"border:0.5px solid #0077b9;\">\n",
    "\n",
    "The article associated with this example of reproduction uses a region of Bahia, Brazil, between the Cerrado and Caatinga biomes, as the study area. In this example, the classification will be done using a small region within the research paper study area to reduce computational complexity.\n",
    "\n",
    "On the other hand, the samples used will be the same ones presented in the article, with the difference that these will have the time series associated with each sample extracted again. The figure below shows the selected region for the classification and used samples.\n",
    "\n",
    "<div align=\"center\">\n",
    "  <img src=\"../assets/study-area.png\" width=\"600px\">\n",
    "</div>\n",
    "<br/>\n",
    "<center><b>Figure 1</b> - Study area in relation to Brazil and its biomes.</center>\n"
   ]
  },
  {
   "cell_type": "markdown",
   "id": "68735d4d",
   "metadata": {},
   "source": [
    "## <span style=\"color: #336699\">General definitions</span>\n",
    "<hr style=\"border:0.5px solid #0077b9;\">\n",
    "\n",
    "> If you want to download and run this notebook in a workflow as a script, you can perform its parameterization through the [papermill library](https://github.com/nteract/papermill)."
   ]
  },
  {
   "cell_type": "code",
   "execution_count": null,
   "id": "2416bd83",
   "metadata": {
    "tags": [
     "parameters"
    ]
   },
   "outputs": [],
   "source": [
    "classification_memsize    <- 40 # in GB\n",
    "classification_multicores <- 10\n",
    "\n",
    "start_date  <- \"2018-08-29\"\n",
    "end_date    <- \"2019-08-29\"\n",
    "\n",
    "BDC_ACCESS_KEY <- \"<YOUR-TOKEN-HERE>\""
   ]
  },
  {
   "cell_type": "code",
   "execution_count": null,
   "id": "eaf70126-4690-44c4-add2-341e5762eab1",
   "metadata": {},
   "outputs": [],
   "source": [
    "#\n",
    "# Setting the `BDC_ACCESS_KEY` environment variable.\n",
    "#\n",
    "if (BDC_ACCESS_KEY != \"<YOUR-TOKEN-HERE>\") {\n",
    "    Sys.setenv(BDC_ACCESS_KEY = BDC_ACCESS_KEY)  \n",
    "}"
   ]
  },
  {
   "cell_type": "markdown",
   "id": "751bdb37",
   "metadata": {},
   "source": [
    "### <span style=\"color: #336699\">Data</span>\n",
    "<hr style=\"border:0.5px solid #0077b9;\">"
   ]
  },
  {
   "cell_type": "code",
   "execution_count": null,
   "id": "9d329cd6-7d40-4a8a-835d-96e1da0cca3a",
   "metadata": {},
   "outputs": [],
   "source": [
    "#\n",
    "# Data cube used\n",
    "#\n",
    "collection  <- \"CB4_64_16D_STK-1\""
   ]
  },
  {
   "cell_type": "code",
   "execution_count": null,
   "id": "99d9d314-c42d-4b5a-befe-aa3a85154750",
   "metadata": {},
   "outputs": [],
   "source": [
    "#\n",
    "# Base directories\n",
    "#\n",
    "data_input  <- fs::path(\"../data/raw_data\")\n",
    "data_output <- fs::path(\"../data/derived_data\")\n",
    "\n",
    "#\n",
    "# Load ROI file\n",
    "#\n",
    "roi <- sf::read_sf(data_input / \"roi\" / \"roi.shp\")\n",
    "\n",
    "#\n",
    "# Samples time series (Generated in previous step)\n",
    "#\n",
    "samples_ts <- readRDS(data_output / \"samples\" / \"train\" / paste0(collection, \".rds\"))"
   ]
  },
  {
   "cell_type": "markdown",
   "id": "7727c606-a9e1-4fb1-b19f-f184407581b5",
   "metadata": {},
   "source": [
    "### <span style=\"color: #336699\">Output directory</span>\n",
    "<hr style=\"border:0.5px solid #0077b9;\">"
   ]
  },
  {
   "cell_type": "code",
   "execution_count": null,
   "id": "21162661",
   "metadata": {},
   "outputs": [],
   "source": [
    "#\n",
    "# Output directory (for the results generated in this document)\n",
    "#\n",
    "output_dir <- data_output / \"classification\" / collection\n",
    "fs::dir_create(output_dir)"
   ]
  },
  {
   "cell_type": "markdown",
   "id": "70a5f9f9-6e62-4f4b-97c8-be6ad5e3cf54",
   "metadata": {},
   "source": [
    "### <span style=\"color: #336699\">Libraries</span>\n",
    "<hr style=\"border:0.5px solid #0077b9;\">"
   ]
  },
  {
   "cell_type": "code",
   "execution_count": null,
   "id": "5f43ef7e",
   "metadata": {},
   "outputs": [],
   "source": [
    "tensorflow::set_random_seed(777) # pseudo-randomic seed\n",
    "\n",
    "library(sits)\n",
    "library(rgdal)"
   ]
  },
  {
   "cell_type": "markdown",
   "id": "f0908bf0",
   "metadata": {},
   "source": [
    "## <span style=\"color: #336699\">Generating datacube using BDC-STAC</span>\n",
    "<hr style=\"border:0.5px solid #0077b9;\">\n",
    "\n",
    "The classification process was done with the use of STAC. In this approach, the data cubes used for the classification are consumed directly through the STAC service. This process is useful for avoiding data movement.\n",
    "\n",
    "Following the definitions of the article, below is the definition of the data cube used. The spectral bands `Red`, `Green`, `Blue`, `Near-Infrared (NIR)` and the vegetation indices `EVI` and `NDVI` are applied in the created cube. The temporal extension used in the research paper covers the period of `2018-09` to `2019-08`."
   ]
  },
  {
   "cell_type": "code",
   "execution_count": null,
   "id": "3fced6f7",
   "metadata": {},
   "outputs": [],
   "source": [
    "cb4_cube <- sits_cube(\n",
    "    source      = \"BDC\",\n",
    "    collection  = collection,\n",
    "    start_date  = start_date,\n",
    "    end_date    = end_date,\n",
    "    tiles       = \"022024\",\n",
    "    bands       = c(\"BAND15\", \"BAND14\", \"BAND13\", \n",
    "                    \"BAND16\", \"NDVI\", \"EVI\", \"CMASK\")\n",
    ")"
   ]
  },
  {
   "cell_type": "markdown",
   "id": "3ac7c928",
   "metadata": {},
   "source": [
    "## <span style=\"color: #336699\">MultiLayer Perceptron model definition</span>\n",
    "<hr style=\"border:0.5px solid #0077b9;\">\n",
    "\n",
    "For the classification of data cubes, the article presents the use of an MLP network with five hidden layers with 512 neurons, trained with the backpropagation algorithm, using the Adam optimizer. The model uses the ReLu activation function.\n",
    "\n",
    "Below is the definition of this model using the [SITS package](https://github.com/e-sensing/sits).\n"
   ]
  },
  {
   "cell_type": "code",
   "execution_count": null,
   "id": "66fa6cb4",
   "metadata": {},
   "outputs": [],
   "source": [
    "mlp_model <- sits_mlp(layers        = c(512, 512, 512, 512, 512),\n",
    "                      dropout_rates = c(0.1, 0.2, 0.3, 0.4, 0.5),\n",
    "                      activation    = \"relu\",\n",
    "                      optimizer     = keras::optimizer_adam(lr = 0.001),\n",
    "                      epochs        = 200)"
   ]
  },
  {
   "cell_type": "markdown",
   "id": "89e06288",
   "metadata": {},
   "source": [
    "Below, the defined model is trained using the same samples used in the article."
   ]
  },
  {
   "cell_type": "code",
   "execution_count": null,
   "id": "5bb602e6",
   "metadata": {},
   "outputs": [],
   "source": [
    "mlp_model <- sits_train(samples_ts, mlp_model)"
   ]
  },
  {
   "cell_type": "markdown",
   "id": "285ceb12",
   "metadata": {},
   "source": [
    "## <span style=\"color: #336699\">Classify the data cube</span>\n",
    "<hr style=\"border:0.5px solid #0077b9;\">\n",
    "\n",
    "> This is a time-consuming process\n"
   ]
  },
  {
   "cell_type": "code",
   "execution_count": null,
   "id": "087390be",
   "metadata": {},
   "outputs": [],
   "source": [
    "probs <- sits_classify(data       = cb4_cube,\n",
    "                       ml_model   = mlp_model,\n",
    "                       memsize    = classification_memsize,\n",
    "                       multicores = classification_multicores,\n",
    "                       roi        = roi,\n",
    "                       output_dir = output_dir)"
   ]
  },
  {
   "cell_type": "markdown",
   "id": "339841c7",
   "metadata": {},
   "source": [
    "## <span style=\"color: #336699\">Generate the LULC classification map</span>\n",
    "<hr style=\"border:0.5px solid #0077b9;\">"
   ]
  },
  {
   "cell_type": "code",
   "execution_count": null,
   "id": "95b7e35e",
   "metadata": {},
   "outputs": [],
   "source": [
    "#\n",
    "# Smothing the classification probabilities\n",
    "#\n",
    "probs_smoothed <- sits_smooth(cube       = probs,\n",
    "                              type       = \"bayes\",\n",
    "                              output_dir = output_dir,\n",
    "                              memsize    = classification_memsize,\n",
    "                              multicores = classification_multicores)\n",
    "\n",
    "#\n",
    "# Generating the LULC labels\n",
    "#\n",
    "labels  <- sits_label_classification(cube       = probs_smoothed, \n",
    "                                     output_dir = output_dir,\n",
    "                                     memsize    = classification_memsize,\n",
    "                                     multicores = classification_multicores)"
   ]
  },
  {
   "cell_type": "markdown",
   "id": "fe9ca0a2",
   "metadata": {},
   "source": [
    "## <span style=\"color: #336699\">Visualizing classification map</span>\n",
    "<hr style=\"border:0.5px solid #0077b9;\">\n",
    "\n",
    "> The raster load in this step was generated automaticaly with `sits_label_classification` function\n"
   ]
  },
  {
   "cell_type": "code",
   "execution_count": null,
   "id": "3aa65310",
   "metadata": {},
   "outputs": [],
   "source": [
    "#\n",
    "# Looking for the LULC map \n",
    "#\n",
    "lulc_map <- fs::dir_ls(output_dir, regexp = \"*_class_v1.tif\")\n",
    "\n",
    "#\n",
    "# Ploting the LULC map\n",
    "#\n",
    "plot( terra::rast(lulc_map) )"
   ]
  },
  {
   "cell_type": "markdown",
   "id": "36c61d6b",
   "metadata": {},
   "source": [
    "## <span style=\"color: #336699\">Save the results</span>\n",
    "<hr style=\"border:0.5px solid #0077b9;\">"
   ]
  },
  {
   "cell_type": "code",
   "execution_count": null,
   "id": "bf6b6ba9",
   "metadata": {},
   "outputs": [],
   "source": [
    "#\n",
    "# Labels\n",
    "#\n",
    "saveRDS(\n",
    "    object = labels, \n",
    "    file   = output_dir / \"labels.rds\"\n",
    ")\n",
    "\n",
    "#\n",
    "# Probabilities\n",
    "#\n",
    "saveRDS(\n",
    "    object = probs, \n",
    "    file   = output_dir / \"probs_cube.rds\"\n",
    ")\n",
    "\n",
    "#\n",
    "# Probabilities (Smoothed)\n",
    "#\n",
    "saveRDS(\n",
    "    object = probs_smoothed, \n",
    "    file   = output_dir / \"probs_smoothed_cube.rds\"\n",
    ")\n",
    "\n",
    "#\n",
    "# ML Model (Trained)\n",
    "#\n",
    "saveRDS(object = mlp_model, \n",
    "        file   = output_dir / \"trained_model.rds\")"
   ]
  }
 ],
 "metadata": {
  "kernelspec": {
   "display_name": "R",
   "language": "R",
   "name": "ir"
  },
  "language_info": {
   "codemirror_mode": "r",
   "file_extension": ".r",
   "mimetype": "text/x-r-source",
   "name": "R",
   "pygments_lexer": "r",
   "version": "4.1.1"
  }
 },
 "nbformat": 4,
 "nbformat_minor": 5
}
